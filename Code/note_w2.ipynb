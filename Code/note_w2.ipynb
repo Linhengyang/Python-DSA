{
 "metadata": {
  "language_info": {
   "codemirror_mode": {
    "name": "ipython",
    "version": 3
   },
   "file_extension": ".py",
   "mimetype": "text/x-python",
   "name": "python",
   "nbconvert_exporter": "python",
   "pygments_lexer": "ipython3",
   "version": "3.8.3-final"
  },
  "orig_nbformat": 2,
  "kernelspec": {
   "name": "python3",
   "display_name": "Python 3",
   "language": "python"
  }
 },
 "nbformat": 4,
 "nbformat_minor": 2,
 "cells": [
  {
   "cell_type": "code",
   "execution_count": 1,
   "metadata": {},
   "outputs": [
    {
     "output_type": "execute_result",
     "data": {
      "text/plain": [
       "'D:\\\\anaconda3\\\\python.exe'"
      ]
     },
     "metadata": {},
     "execution_count": 1
    }
   ],
   "source": [
    "import sys\n",
    "sys.executable"
   ]
  },
  {
   "cell_type": "code",
   "execution_count": 2,
   "metadata": {},
   "outputs": [],
   "source": [
    "from timeit import Timer\n",
    "import random\n",
    "import numpy as np\n",
    "import matplotlib.pyplot as plt"
   ]
  },
  {
   "cell_type": "code",
   "execution_count": null,
   "metadata": {},
   "outputs": [],
   "source": [
    "# 验证list按索引取值是O(1)的。\n",
    "# list的长度分别是10,0000一直到100,0000。测试的函数是一次取、存。可以用matplotlib来展示数据。\n",
    "def get_from_list(lst, v):\n",
    "    a = lst[v]\n",
    "\n",
    "times = []\n",
    "for i in range(100000, 1000000, 10000):\n",
    "    lst = list(range(i))\n",
    "    v = random.randint(0, i-1)\n",
    "    t1 = Timer(\"get_from_list(lst, v)\", \"from __main__ import get_from_list, lst, v\")\n",
    "    times.append(t1.timeit(10000))\n",
    "\n",
    "# visualize the times\n",
    "time_arr = np.asarray(times)\n",
    "len_arr = np.asarray(list(range(100000, 1000000, 10000)))\n",
    "plt.scatter(len_arr, time_arr)\n",
    "plt.ylim((0,0.01))\n",
    "plt.show()"
   ]
  },
  {
   "cell_type": "code",
   "execution_count": null,
   "metadata": {},
   "outputs": [],
   "source": [
    "# 验证dict的set item和get item都是O(1)的。\n",
    "# dict的keys数量分别是10,0000一直到100,0000。测试的函数是一次取、存。可以用matplotlib来展示数据。\n",
    "def get_from_dict(input_dict, k):\n",
    "    a = input_dict[k]\n",
    "\n",
    "def set_to_dict(input_dict, k):\n",
    "    input_dict[k] = 0\n",
    "\n",
    "get_times = []\n",
    "set_times = []\n",
    "for i in range(100000, 1000000, 10000):\n",
    "    test_dict = {}\n",
    "    keys = [str(j) for j in list(range(i))]\n",
    "    for key in keys:\n",
    "        test_dict[key] = int(key)\n",
    "    \n",
    "    v = str(random.randint(0, i-1))\n",
    "    t1 = Timer(\"get_from_dict(test_dict, v)\", \"from __main__ import get_from_dict, test_dict, v\")\n",
    "    get_times.append(t1.timeit(1000))\n",
    "\n",
    "    t2 = Timer(\"set_to_dict(test_dict, v)\", \"from __main__ import set_to_dict, test_dict, v\")\n",
    "    set_times.append(t2.timeit(1000))"
   ]
  },
  {
   "cell_type": "code",
   "execution_count": null,
   "metadata": {},
   "outputs": [],
   "source": [
    "# visualize the times\n",
    "len_arr = np.asarray(list(range(100000, 1000000, 10000)))\n",
    "plt.subplot(1, 2, 1)\n",
    "time_1_arr = np.asarray(get_times)\n",
    "plt.scatter(len_arr, time_1_arr)\n",
    "plt.title(\"get time display\")\n",
    "plt.ylim((0,0.01))\n",
    "\n",
    "plt.subplot(1, 2, 2)\n",
    "time_2_arr = np.asarray(set_times)\n",
    "plt.scatter(len_arr, time_2_arr)\n",
    "plt.title(\"set time display\")\n",
    "plt.ylim((0,0.01))\n",
    "\n",
    "plt.tight_layout()\n",
    "plt.show()"
   ]
  },
  {
   "cell_type": "code",
   "execution_count": null,
   "metadata": {},
   "outputs": [],
   "source": [
    "# 对比list和dict的delete操作符: 每一次释放其中前2000个\n",
    "def del_from_list(input_list):\n",
    "    for i in range(2000):\n",
    "        del input_list[i]\n",
    "\n",
    "def del_from_dict(input_dict):\n",
    "    for i in range(2000):\n",
    "        del input_dict[str(i)]\n",
    "\n",
    "list_times = []\n",
    "dict_times = []\n",
    "for i in range(100000, 1000000, 10000):\n",
    "    test_dict = {}\n",
    "    keys = [str(j) for j in list(range(i))]\n",
    "    for key in keys:\n",
    "        test_dict[key] = int(key)\n",
    "    \n",
    "    test_lst = list(range(i))\n",
    "    t1 = Timer(\"del_from_list(test_lst)\", \"from __main__ import del_from_list, test_lst\")\n",
    "    list_times.append(t1.timeit(1))\n",
    "\n",
    "    t2 = Timer(\"del_from_dict(test_dict)\", \"from __main__ import del_from_dict, test_dict\")\n",
    "    dict_times.append(t2.timeit(1))\n",
    "\n",
    "ratios = [list_times[i]/dict_times[i] for i in range(len(list_times))]"
   ]
  },
  {
   "cell_type": "code",
   "execution_count": null,
   "metadata": {},
   "outputs": [],
   "source": [
    "# 预测：根据wiki python, del list[i]是O(n)，del dict[k]是O(1)。所以我预测比例是接近一次直线\n",
    "# visualize the ratios\n",
    "r_arr = np.asarray(ratios)\n",
    "len_arr = np.asarray(list(range(100000, 1000000, 10000)))\n",
    "plt.scatter(len_arr, r_arr)\n",
    "# plt.ylim((0,2000))\n",
    "plt.show()"
   ]
  },
  {
   "cell_type": "code",
   "execution_count": 12,
   "metadata": {},
   "outputs": [],
   "source": [
    "# [H2.4]做计时实验，通过对一些随机数列表排序，验证Python自带的list.sort的时间复杂度为O(n logn)\n",
    "def sort_list(lst):\n",
    "    lst.sort()\n",
    "\n",
    "sort_times = []\n",
    "for i in range(10000, 100000, 1000):\n",
    "    test_lst = [random.randint(0, i-1) for _ in list(range(i))]\n",
    "    t1 = Timer(\"sort_list(test_lst)\", \"from __main__ import sort_list, test_lst\")\n",
    "    sort_times.append(t1.timeit(1000))"
   ]
  },
  {
   "cell_type": "code",
   "execution_count": 27,
   "metadata": {},
   "outputs": [
    {
     "output_type": "display_data",
     "data": {
      "text/plain": "<Figure size 432x288 with 1 Axes>",
      "image/svg+xml": "<?xml version=\"1.0\" encoding=\"utf-8\" standalone=\"no\"?>\r\n<!DOCTYPE svg PUBLIC \"-//W3C//DTD SVG 1.1//EN\"\r\n  \"http://www.w3.org/Graphics/SVG/1.1/DTD/svg11.dtd\">\r\n<!-- Created with matplotlib (https://matplotlib.org/) -->\r\n<svg height=\"248.518125pt\" version=\"1.1\" viewBox=\"0 0 379.392259 248.518125\" width=\"379.392259pt\" xmlns=\"http://www.w3.org/2000/svg\" xmlns:xlink=\"http://www.w3.org/1999/xlink\">\r\n <defs>\r\n  <style type=\"text/css\">\r\n*{stroke-linecap:butt;stroke-linejoin:round;}\r\n  </style>\r\n </defs>\r\n <g id=\"figure_1\">\r\n  <g id=\"patch_1\">\r\n   <path d=\"M 0 248.518125 \r\nL 379.392259 248.518125 \r\nL 379.392259 0 \r\nL 0 0 \r\nz\r\n\" style=\"fill:none;\"/>\r\n  </g>\r\n  <g id=\"axes_1\">\r\n   <g id=\"patch_2\">\r\n    <path d=\"M 30.103125 224.64 \r\nL 364.903125 224.64 \r\nL 364.903125 7.2 \r\nL 30.103125 7.2 \r\nz\r\n\" style=\"fill:#ffffff;\"/>\r\n   </g>\r\n   <g id=\"PathCollection_1\">\r\n    <defs>\r\n     <path d=\"M 0 3 \r\nC 0.795609 3 1.55874 2.683901 2.12132 2.12132 \r\nC 2.683901 1.55874 3 0.795609 3 0 \r\nC 3 -0.795609 2.683901 -1.55874 2.12132 -2.12132 \r\nC 1.55874 -2.683901 0.795609 -3 0 -3 \r\nC -0.795609 -3 -1.55874 -2.683901 -2.12132 -2.12132 \r\nC -2.683901 -1.55874 -3 -0.795609 -3 0 \r\nC -3 0.795609 -2.683901 1.55874 -2.12132 2.12132 \r\nC -1.55874 2.683901 -0.795609 3 0 3 \r\nz\r\n\" id=\"m5c6beb8000\" style=\"stroke:#1f77b4;\"/>\r\n    </defs>\r\n    <g clip-path=\"url(#p17b7079d9e)\">\r\n     <use style=\"fill:#1f77b4;stroke:#1f77b4;\" x=\"45.321307\" xlink:href=\"#m5c6beb8000\" y=\"214.756364\"/>\r\n     <use style=\"fill:#1f77b4;stroke:#1f77b4;\" x=\"48.741123\" xlink:href=\"#m5c6beb8000\" y=\"212.839626\"/>\r\n     <use style=\"fill:#1f77b4;stroke:#1f77b4;\" x=\"52.160939\" xlink:href=\"#m5c6beb8000\" y=\"212.03766\"/>\r\n     <use style=\"fill:#1f77b4;stroke:#1f77b4;\" x=\"55.580755\" xlink:href=\"#m5c6beb8000\" y=\"210.132709\"/>\r\n     <use style=\"fill:#1f77b4;stroke:#1f77b4;\" x=\"59.000571\" xlink:href=\"#m5c6beb8000\" y=\"208.948828\"/>\r\n     <use style=\"fill:#1f77b4;stroke:#1f77b4;\" x=\"62.420388\" xlink:href=\"#m5c6beb8000\" y=\"207.153983\"/>\r\n     <use style=\"fill:#1f77b4;stroke:#1f77b4;\" x=\"65.840204\" xlink:href=\"#m5c6beb8000\" y=\"205.580723\"/>\r\n     <use style=\"fill:#1f77b4;stroke:#1f77b4;\" x=\"69.26002\" xlink:href=\"#m5c6beb8000\" y=\"204.50955\"/>\r\n     <use style=\"fill:#1f77b4;stroke:#1f77b4;\" x=\"72.679836\" xlink:href=\"#m5c6beb8000\" y=\"202.999355\"/>\r\n     <use style=\"fill:#1f77b4;stroke:#1f77b4;\" x=\"76.099652\" xlink:href=\"#m5c6beb8000\" y=\"198.666353\"/>\r\n     <use style=\"fill:#1f77b4;stroke:#1f77b4;\" x=\"79.519468\" xlink:href=\"#m5c6beb8000\" y=\"197.94838\"/>\r\n     <use style=\"fill:#1f77b4;stroke:#1f77b4;\" x=\"82.939284\" xlink:href=\"#m5c6beb8000\" y=\"194.899232\"/>\r\n     <use style=\"fill:#1f77b4;stroke:#1f77b4;\" x=\"86.3591\" xlink:href=\"#m5c6beb8000\" y=\"194.555431\"/>\r\n     <use style=\"fill:#1f77b4;stroke:#1f77b4;\" x=\"89.778917\" xlink:href=\"#m5c6beb8000\" y=\"191.930529\"/>\r\n     <use style=\"fill:#1f77b4;stroke:#1f77b4;\" x=\"93.198733\" xlink:href=\"#m5c6beb8000\" y=\"190.244777\"/>\r\n     <use style=\"fill:#1f77b4;stroke:#1f77b4;\" x=\"96.618549\" xlink:href=\"#m5c6beb8000\" y=\"190.186143\"/>\r\n     <use style=\"fill:#1f77b4;stroke:#1f77b4;\" x=\"100.038365\" xlink:href=\"#m5c6beb8000\" y=\"185.920163\"/>\r\n     <use style=\"fill:#1f77b4;stroke:#1f77b4;\" x=\"103.458181\" xlink:href=\"#m5c6beb8000\" y=\"183.617897\"/>\r\n     <use style=\"fill:#1f77b4;stroke:#1f77b4;\" x=\"106.877997\" xlink:href=\"#m5c6beb8000\" y=\"181.289734\"/>\r\n     <use style=\"fill:#1f77b4;stroke:#1f77b4;\" x=\"110.297813\" xlink:href=\"#m5c6beb8000\" y=\"181.645644\"/>\r\n     <use style=\"fill:#1f77b4;stroke:#1f77b4;\" x=\"113.71763\" xlink:href=\"#m5c6beb8000\" y=\"178.715227\"/>\r\n     <use style=\"fill:#1f77b4;stroke:#1f77b4;\" x=\"117.137446\" xlink:href=\"#m5c6beb8000\" y=\"180.949073\"/>\r\n     <use style=\"fill:#1f77b4;stroke:#1f77b4;\" x=\"120.557262\" xlink:href=\"#m5c6beb8000\" y=\"177.176016\"/>\r\n     <use style=\"fill:#1f77b4;stroke:#1f77b4;\" x=\"123.977078\" xlink:href=\"#m5c6beb8000\" y=\"170.635323\"/>\r\n     <use style=\"fill:#1f77b4;stroke:#1f77b4;\" x=\"127.396894\" xlink:href=\"#m5c6beb8000\" y=\"170.664747\"/>\r\n     <use style=\"fill:#1f77b4;stroke:#1f77b4;\" x=\"130.81671\" xlink:href=\"#m5c6beb8000\" y=\"170.533069\"/>\r\n     <use style=\"fill:#1f77b4;stroke:#1f77b4;\" x=\"134.236526\" xlink:href=\"#m5c6beb8000\" y=\"169.256742\"/>\r\n     <use style=\"fill:#1f77b4;stroke:#1f77b4;\" x=\"137.656343\" xlink:href=\"#m5c6beb8000\" y=\"167.523864\"/>\r\n     <use style=\"fill:#1f77b4;stroke:#1f77b4;\" x=\"141.076159\" xlink:href=\"#m5c6beb8000\" y=\"163.259776\"/>\r\n     <use style=\"fill:#1f77b4;stroke:#1f77b4;\" x=\"144.495975\" xlink:href=\"#m5c6beb8000\" y=\"159.409997\"/>\r\n     <use style=\"fill:#1f77b4;stroke:#1f77b4;\" x=\"147.915791\" xlink:href=\"#m5c6beb8000\" y=\"161.120613\"/>\r\n     <use style=\"fill:#1f77b4;stroke:#1f77b4;\" x=\"151.335607\" xlink:href=\"#m5c6beb8000\" y=\"157.437508\"/>\r\n     <use style=\"fill:#1f77b4;stroke:#1f77b4;\" x=\"154.755423\" xlink:href=\"#m5c6beb8000\" y=\"153.501713\"/>\r\n     <use style=\"fill:#1f77b4;stroke:#1f77b4;\" x=\"158.175239\" xlink:href=\"#m5c6beb8000\" y=\"160.020424\"/>\r\n     <use style=\"fill:#1f77b4;stroke:#1f77b4;\" x=\"161.595056\" xlink:href=\"#m5c6beb8000\" y=\"155.294602\"/>\r\n     <use style=\"fill:#1f77b4;stroke:#1f77b4;\" x=\"165.014872\" xlink:href=\"#m5c6beb8000\" y=\"153.639888\"/>\r\n     <use style=\"fill:#1f77b4;stroke:#1f77b4;\" x=\"168.434688\" xlink:href=\"#m5c6beb8000\" y=\"156.921828\"/>\r\n     <use style=\"fill:#1f77b4;stroke:#1f77b4;\" x=\"171.854504\" xlink:href=\"#m5c6beb8000\" y=\"154.199962\"/>\r\n     <use style=\"fill:#1f77b4;stroke:#1f77b4;\" x=\"175.27432\" xlink:href=\"#m5c6beb8000\" y=\"151.462073\"/>\r\n     <use style=\"fill:#1f77b4;stroke:#1f77b4;\" x=\"178.694136\" xlink:href=\"#m5c6beb8000\" y=\"150.254059\"/>\r\n     <use style=\"fill:#1f77b4;stroke:#1f77b4;\" x=\"182.113952\" xlink:href=\"#m5c6beb8000\" y=\"147.819942\"/>\r\n     <use style=\"fill:#1f77b4;stroke:#1f77b4;\" x=\"185.533769\" xlink:href=\"#m5c6beb8000\" y=\"145.504662\"/>\r\n     <use style=\"fill:#1f77b4;stroke:#1f77b4;\" x=\"188.953585\" xlink:href=\"#m5c6beb8000\" y=\"145.628985\"/>\r\n     <use style=\"fill:#1f77b4;stroke:#1f77b4;\" x=\"192.373401\" xlink:href=\"#m5c6beb8000\" y=\"145.170153\"/>\r\n     <use style=\"fill:#1f77b4;stroke:#1f77b4;\" x=\"195.793217\" xlink:href=\"#m5c6beb8000\" y=\"141.040153\"/>\r\n     <use style=\"fill:#1f77b4;stroke:#1f77b4;\" x=\"199.213033\" xlink:href=\"#m5c6beb8000\" y=\"140.42822\"/>\r\n     <use style=\"fill:#1f77b4;stroke:#1f77b4;\" x=\"202.632849\" xlink:href=\"#m5c6beb8000\" y=\"137.68291\"/>\r\n     <use style=\"fill:#1f77b4;stroke:#1f77b4;\" x=\"206.052665\" xlink:href=\"#m5c6beb8000\" y=\"139.442804\"/>\r\n     <use style=\"fill:#1f77b4;stroke:#1f77b4;\" x=\"209.472481\" xlink:href=\"#m5c6beb8000\" y=\"133.445085\"/>\r\n     <use style=\"fill:#1f77b4;stroke:#1f77b4;\" x=\"212.892298\" xlink:href=\"#m5c6beb8000\" y=\"130.685945\"/>\r\n     <use style=\"fill:#1f77b4;stroke:#1f77b4;\" x=\"216.312114\" xlink:href=\"#m5c6beb8000\" y=\"128.889636\"/>\r\n     <use style=\"fill:#1f77b4;stroke:#1f77b4;\" x=\"219.73193\" xlink:href=\"#m5c6beb8000\" y=\"127.469457\"/>\r\n     <use style=\"fill:#1f77b4;stroke:#1f77b4;\" x=\"223.151746\" xlink:href=\"#m5c6beb8000\" y=\"126.497419\"/>\r\n     <use style=\"fill:#1f77b4;stroke:#1f77b4;\" x=\"226.571562\" xlink:href=\"#m5c6beb8000\" y=\"125.395746\"/>\r\n     <use style=\"fill:#1f77b4;stroke:#1f77b4;\" x=\"229.991378\" xlink:href=\"#m5c6beb8000\" y=\"122.877657\"/>\r\n     <use style=\"fill:#1f77b4;stroke:#1f77b4;\" x=\"233.411194\" xlink:href=\"#m5c6beb8000\" y=\"122.250948\"/>\r\n     <use style=\"fill:#1f77b4;stroke:#1f77b4;\" x=\"236.831011\" xlink:href=\"#m5c6beb8000\" y=\"116.09075\"/>\r\n     <use style=\"fill:#1f77b4;stroke:#1f77b4;\" x=\"240.250827\" xlink:href=\"#m5c6beb8000\" y=\"115.630413\"/>\r\n     <use style=\"fill:#1f77b4;stroke:#1f77b4;\" x=\"243.670643\" xlink:href=\"#m5c6beb8000\" y=\"115.924119\"/>\r\n     <use style=\"fill:#1f77b4;stroke:#1f77b4;\" x=\"247.090459\" xlink:href=\"#m5c6beb8000\" y=\"111.000628\"/>\r\n     <use style=\"fill:#1f77b4;stroke:#1f77b4;\" x=\"250.510275\" xlink:href=\"#m5c6beb8000\" y=\"109.059628\"/>\r\n     <use style=\"fill:#1f77b4;stroke:#1f77b4;\" x=\"253.930091\" xlink:href=\"#m5c6beb8000\" y=\"106.484648\"/>\r\n     <use style=\"fill:#1f77b4;stroke:#1f77b4;\" x=\"257.349907\" xlink:href=\"#m5c6beb8000\" y=\"105.909904\"/>\r\n     <use style=\"fill:#1f77b4;stroke:#1f77b4;\" x=\"260.769724\" xlink:href=\"#m5c6beb8000\" y=\"105.917217\"/>\r\n     <use style=\"fill:#1f77b4;stroke:#1f77b4;\" x=\"264.18954\" xlink:href=\"#m5c6beb8000\" y=\"99.000266\"/>\r\n     <use style=\"fill:#1f77b4;stroke:#1f77b4;\" x=\"267.609356\" xlink:href=\"#m5c6beb8000\" y=\"98.187029\"/>\r\n     <use style=\"fill:#1f77b4;stroke:#1f77b4;\" x=\"271.029172\" xlink:href=\"#m5c6beb8000\" y=\"83.140617\"/>\r\n     <use style=\"fill:#1f77b4;stroke:#1f77b4;\" x=\"274.448988\" xlink:href=\"#m5c6beb8000\" y=\"94.037198\"/>\r\n     <use style=\"fill:#1f77b4;stroke:#1f77b4;\" x=\"277.868804\" xlink:href=\"#m5c6beb8000\" y=\"91.118396\"/>\r\n     <use style=\"fill:#1f77b4;stroke:#1f77b4;\" x=\"281.28862\" xlink:href=\"#m5c6beb8000\" y=\"91.840068\"/>\r\n     <use style=\"fill:#1f77b4;stroke:#1f77b4;\" x=\"284.708437\" xlink:href=\"#m5c6beb8000\" y=\"80.297247\"/>\r\n     <use style=\"fill:#1f77b4;stroke:#1f77b4;\" x=\"288.128253\" xlink:href=\"#m5c6beb8000\" y=\"88.044943\"/>\r\n     <use style=\"fill:#1f77b4;stroke:#1f77b4;\" x=\"291.548069\" xlink:href=\"#m5c6beb8000\" y=\"73.128897\"/>\r\n     <use style=\"fill:#1f77b4;stroke:#1f77b4;\" x=\"294.967885\" xlink:href=\"#m5c6beb8000\" y=\"81.473277\"/>\r\n     <use style=\"fill:#1f77b4;stroke:#1f77b4;\" x=\"298.387701\" xlink:href=\"#m5c6beb8000\" y=\"75.864485\"/>\r\n     <use style=\"fill:#1f77b4;stroke:#1f77b4;\" x=\"301.807517\" xlink:href=\"#m5c6beb8000\" y=\"79.509628\"/>\r\n     <use style=\"fill:#1f77b4;stroke:#1f77b4;\" x=\"305.227333\" xlink:href=\"#m5c6beb8000\" y=\"61.406131\"/>\r\n     <use style=\"fill:#1f77b4;stroke:#1f77b4;\" x=\"308.64715\" xlink:href=\"#m5c6beb8000\" y=\"75.262511\"/>\r\n     <use style=\"fill:#1f77b4;stroke:#1f77b4;\" x=\"312.066966\" xlink:href=\"#m5c6beb8000\" y=\"64.926564\"/>\r\n     <use style=\"fill:#1f77b4;stroke:#1f77b4;\" x=\"315.486782\" xlink:href=\"#m5c6beb8000\" y=\"67.553617\"/>\r\n     <use style=\"fill:#1f77b4;stroke:#1f77b4;\" x=\"318.906598\" xlink:href=\"#m5c6beb8000\" y=\"53.76299\"/>\r\n     <use style=\"fill:#1f77b4;stroke:#1f77b4;\" x=\"322.326414\" xlink:href=\"#m5c6beb8000\" y=\"63.982036\"/>\r\n     <use style=\"fill:#1f77b4;stroke:#1f77b4;\" x=\"325.74623\" xlink:href=\"#m5c6beb8000\" y=\"40.570918\"/>\r\n     <use style=\"fill:#1f77b4;stroke:#1f77b4;\" x=\"329.166046\" xlink:href=\"#m5c6beb8000\" y=\"22.830473\"/>\r\n     <use style=\"fill:#1f77b4;stroke:#1f77b4;\" x=\"332.585862\" xlink:href=\"#m5c6beb8000\" y=\"55.962852\"/>\r\n     <use style=\"fill:#1f77b4;stroke:#1f77b4;\" x=\"336.005679\" xlink:href=\"#m5c6beb8000\" y=\"33.064854\"/>\r\n     <use style=\"fill:#1f77b4;stroke:#1f77b4;\" x=\"339.425495\" xlink:href=\"#m5c6beb8000\" y=\"23.289756\"/>\r\n     <use style=\"fill:#1f77b4;stroke:#1f77b4;\" x=\"342.845311\" xlink:href=\"#m5c6beb8000\" y=\"17.083636\"/>\r\n     <use style=\"fill:#1f77b4;stroke:#1f77b4;\" x=\"346.265127\" xlink:href=\"#m5c6beb8000\" y=\"21.896786\"/>\r\n     <use style=\"fill:#1f77b4;stroke:#1f77b4;\" x=\"349.684943\" xlink:href=\"#m5c6beb8000\" y=\"31.723291\"/>\r\n    </g>\r\n   </g>\r\n   <g id=\"matplotlib.axis_1\">\r\n    <g id=\"xtick_1\">\r\n     <g id=\"line2d_1\">\r\n      <defs>\r\n       <path d=\"M 0 0 \r\nL 0 3.5 \r\n\" id=\"mc286e492ce\" style=\"stroke:#000000;stroke-width:0.8;\"/>\r\n      </defs>\r\n      <g>\r\n       <use style=\"stroke:#000000;stroke-width:0.8;\" x=\"79.519468\" xlink:href=\"#mc286e492ce\" y=\"224.64\"/>\r\n      </g>\r\n     </g>\r\n     <g id=\"text_1\">\r\n      <!-- 20000 -->\r\n      <defs>\r\n       <path d=\"M 19.1875 8.296875 \r\nL 53.609375 8.296875 \r\nL 53.609375 0 \r\nL 7.328125 0 \r\nL 7.328125 8.296875 \r\nQ 12.9375 14.109375 22.625 23.890625 \r\nQ 32.328125 33.6875 34.8125 36.53125 \r\nQ 39.546875 41.84375 41.421875 45.53125 \r\nQ 43.3125 49.21875 43.3125 52.78125 \r\nQ 43.3125 58.59375 39.234375 62.25 \r\nQ 35.15625 65.921875 28.609375 65.921875 \r\nQ 23.96875 65.921875 18.8125 64.3125 \r\nQ 13.671875 62.703125 7.8125 59.421875 \r\nL 7.8125 69.390625 \r\nQ 13.765625 71.78125 18.9375 73 \r\nQ 24.125 74.21875 28.421875 74.21875 \r\nQ 39.75 74.21875 46.484375 68.546875 \r\nQ 53.21875 62.890625 53.21875 53.421875 \r\nQ 53.21875 48.921875 51.53125 44.890625 \r\nQ 49.859375 40.875 45.40625 35.40625 \r\nQ 44.1875 33.984375 37.640625 27.21875 \r\nQ 31.109375 20.453125 19.1875 8.296875 \r\nz\r\n\" id=\"DejaVuSans-50\"/>\r\n       <path d=\"M 31.78125 66.40625 \r\nQ 24.171875 66.40625 20.328125 58.90625 \r\nQ 16.5 51.421875 16.5 36.375 \r\nQ 16.5 21.390625 20.328125 13.890625 \r\nQ 24.171875 6.390625 31.78125 6.390625 \r\nQ 39.453125 6.390625 43.28125 13.890625 \r\nQ 47.125 21.390625 47.125 36.375 \r\nQ 47.125 51.421875 43.28125 58.90625 \r\nQ 39.453125 66.40625 31.78125 66.40625 \r\nz\r\nM 31.78125 74.21875 \r\nQ 44.046875 74.21875 50.515625 64.515625 \r\nQ 56.984375 54.828125 56.984375 36.375 \r\nQ 56.984375 17.96875 50.515625 8.265625 \r\nQ 44.046875 -1.421875 31.78125 -1.421875 \r\nQ 19.53125 -1.421875 13.0625 8.265625 \r\nQ 6.59375 17.96875 6.59375 36.375 \r\nQ 6.59375 54.828125 13.0625 64.515625 \r\nQ 19.53125 74.21875 31.78125 74.21875 \r\nz\r\n\" id=\"DejaVuSans-48\"/>\r\n      </defs>\r\n      <g transform=\"translate(63.613218 239.238437)scale(0.1 -0.1)\">\r\n       <use xlink:href=\"#DejaVuSans-50\"/>\r\n       <use x=\"63.623047\" xlink:href=\"#DejaVuSans-48\"/>\r\n       <use x=\"127.246094\" xlink:href=\"#DejaVuSans-48\"/>\r\n       <use x=\"190.869141\" xlink:href=\"#DejaVuSans-48\"/>\r\n       <use x=\"254.492188\" xlink:href=\"#DejaVuSans-48\"/>\r\n      </g>\r\n     </g>\r\n    </g>\r\n    <g id=\"xtick_2\">\r\n     <g id=\"line2d_2\">\r\n      <g>\r\n       <use style=\"stroke:#000000;stroke-width:0.8;\" x=\"147.915791\" xlink:href=\"#mc286e492ce\" y=\"224.64\"/>\r\n      </g>\r\n     </g>\r\n     <g id=\"text_2\">\r\n      <!-- 40000 -->\r\n      <defs>\r\n       <path d=\"M 37.796875 64.3125 \r\nL 12.890625 25.390625 \r\nL 37.796875 25.390625 \r\nz\r\nM 35.203125 72.90625 \r\nL 47.609375 72.90625 \r\nL 47.609375 25.390625 \r\nL 58.015625 25.390625 \r\nL 58.015625 17.1875 \r\nL 47.609375 17.1875 \r\nL 47.609375 0 \r\nL 37.796875 0 \r\nL 37.796875 17.1875 \r\nL 4.890625 17.1875 \r\nL 4.890625 26.703125 \r\nz\r\n\" id=\"DejaVuSans-52\"/>\r\n      </defs>\r\n      <g transform=\"translate(132.009541 239.238437)scale(0.1 -0.1)\">\r\n       <use xlink:href=\"#DejaVuSans-52\"/>\r\n       <use x=\"63.623047\" xlink:href=\"#DejaVuSans-48\"/>\r\n       <use x=\"127.246094\" xlink:href=\"#DejaVuSans-48\"/>\r\n       <use x=\"190.869141\" xlink:href=\"#DejaVuSans-48\"/>\r\n       <use x=\"254.492188\" xlink:href=\"#DejaVuSans-48\"/>\r\n      </g>\r\n     </g>\r\n    </g>\r\n    <g id=\"xtick_3\">\r\n     <g id=\"line2d_3\">\r\n      <g>\r\n       <use style=\"stroke:#000000;stroke-width:0.8;\" x=\"216.312114\" xlink:href=\"#mc286e492ce\" y=\"224.64\"/>\r\n      </g>\r\n     </g>\r\n     <g id=\"text_3\">\r\n      <!-- 60000 -->\r\n      <defs>\r\n       <path d=\"M 33.015625 40.375 \r\nQ 26.375 40.375 22.484375 35.828125 \r\nQ 18.609375 31.296875 18.609375 23.390625 \r\nQ 18.609375 15.53125 22.484375 10.953125 \r\nQ 26.375 6.390625 33.015625 6.390625 \r\nQ 39.65625 6.390625 43.53125 10.953125 \r\nQ 47.40625 15.53125 47.40625 23.390625 \r\nQ 47.40625 31.296875 43.53125 35.828125 \r\nQ 39.65625 40.375 33.015625 40.375 \r\nz\r\nM 52.59375 71.296875 \r\nL 52.59375 62.3125 \r\nQ 48.875 64.0625 45.09375 64.984375 \r\nQ 41.3125 65.921875 37.59375 65.921875 \r\nQ 27.828125 65.921875 22.671875 59.328125 \r\nQ 17.53125 52.734375 16.796875 39.40625 \r\nQ 19.671875 43.65625 24.015625 45.921875 \r\nQ 28.375 48.1875 33.59375 48.1875 \r\nQ 44.578125 48.1875 50.953125 41.515625 \r\nQ 57.328125 34.859375 57.328125 23.390625 \r\nQ 57.328125 12.15625 50.6875 5.359375 \r\nQ 44.046875 -1.421875 33.015625 -1.421875 \r\nQ 20.359375 -1.421875 13.671875 8.265625 \r\nQ 6.984375 17.96875 6.984375 36.375 \r\nQ 6.984375 53.65625 15.1875 63.9375 \r\nQ 23.390625 74.21875 37.203125 74.21875 \r\nQ 40.921875 74.21875 44.703125 73.484375 \r\nQ 48.484375 72.75 52.59375 71.296875 \r\nz\r\n\" id=\"DejaVuSans-54\"/>\r\n      </defs>\r\n      <g transform=\"translate(200.405864 239.238437)scale(0.1 -0.1)\">\r\n       <use xlink:href=\"#DejaVuSans-54\"/>\r\n       <use x=\"63.623047\" xlink:href=\"#DejaVuSans-48\"/>\r\n       <use x=\"127.246094\" xlink:href=\"#DejaVuSans-48\"/>\r\n       <use x=\"190.869141\" xlink:href=\"#DejaVuSans-48\"/>\r\n       <use x=\"254.492188\" xlink:href=\"#DejaVuSans-48\"/>\r\n      </g>\r\n     </g>\r\n    </g>\r\n    <g id=\"xtick_4\">\r\n     <g id=\"line2d_4\">\r\n      <g>\r\n       <use style=\"stroke:#000000;stroke-width:0.8;\" x=\"284.708437\" xlink:href=\"#mc286e492ce\" y=\"224.64\"/>\r\n      </g>\r\n     </g>\r\n     <g id=\"text_4\">\r\n      <!-- 80000 -->\r\n      <defs>\r\n       <path d=\"M 31.78125 34.625 \r\nQ 24.75 34.625 20.71875 30.859375 \r\nQ 16.703125 27.09375 16.703125 20.515625 \r\nQ 16.703125 13.921875 20.71875 10.15625 \r\nQ 24.75 6.390625 31.78125 6.390625 \r\nQ 38.8125 6.390625 42.859375 10.171875 \r\nQ 46.921875 13.96875 46.921875 20.515625 \r\nQ 46.921875 27.09375 42.890625 30.859375 \r\nQ 38.875 34.625 31.78125 34.625 \r\nz\r\nM 21.921875 38.8125 \r\nQ 15.578125 40.375 12.03125 44.71875 \r\nQ 8.5 49.078125 8.5 55.328125 \r\nQ 8.5 64.0625 14.71875 69.140625 \r\nQ 20.953125 74.21875 31.78125 74.21875 \r\nQ 42.671875 74.21875 48.875 69.140625 \r\nQ 55.078125 64.0625 55.078125 55.328125 \r\nQ 55.078125 49.078125 51.53125 44.71875 \r\nQ 48 40.375 41.703125 38.8125 \r\nQ 48.828125 37.15625 52.796875 32.3125 \r\nQ 56.78125 27.484375 56.78125 20.515625 \r\nQ 56.78125 9.90625 50.3125 4.234375 \r\nQ 43.84375 -1.421875 31.78125 -1.421875 \r\nQ 19.734375 -1.421875 13.25 4.234375 \r\nQ 6.78125 9.90625 6.78125 20.515625 \r\nQ 6.78125 27.484375 10.78125 32.3125 \r\nQ 14.796875 37.15625 21.921875 38.8125 \r\nz\r\nM 18.3125 54.390625 \r\nQ 18.3125 48.734375 21.84375 45.5625 \r\nQ 25.390625 42.390625 31.78125 42.390625 \r\nQ 38.140625 42.390625 41.71875 45.5625 \r\nQ 45.3125 48.734375 45.3125 54.390625 \r\nQ 45.3125 60.0625 41.71875 63.234375 \r\nQ 38.140625 66.40625 31.78125 66.40625 \r\nQ 25.390625 66.40625 21.84375 63.234375 \r\nQ 18.3125 60.0625 18.3125 54.390625 \r\nz\r\n\" id=\"DejaVuSans-56\"/>\r\n      </defs>\r\n      <g transform=\"translate(268.802187 239.238437)scale(0.1 -0.1)\">\r\n       <use xlink:href=\"#DejaVuSans-56\"/>\r\n       <use x=\"63.623047\" xlink:href=\"#DejaVuSans-48\"/>\r\n       <use x=\"127.246094\" xlink:href=\"#DejaVuSans-48\"/>\r\n       <use x=\"190.869141\" xlink:href=\"#DejaVuSans-48\"/>\r\n       <use x=\"254.492188\" xlink:href=\"#DejaVuSans-48\"/>\r\n      </g>\r\n     </g>\r\n    </g>\r\n    <g id=\"xtick_5\">\r\n     <g id=\"line2d_5\">\r\n      <g>\r\n       <use style=\"stroke:#000000;stroke-width:0.8;\" x=\"353.104759\" xlink:href=\"#mc286e492ce\" y=\"224.64\"/>\r\n      </g>\r\n     </g>\r\n     <g id=\"text_5\">\r\n      <!-- 100000 -->\r\n      <defs>\r\n       <path d=\"M 12.40625 8.296875 \r\nL 28.515625 8.296875 \r\nL 28.515625 63.921875 \r\nL 10.984375 60.40625 \r\nL 10.984375 69.390625 \r\nL 28.421875 72.90625 \r\nL 38.28125 72.90625 \r\nL 38.28125 8.296875 \r\nL 54.390625 8.296875 \r\nL 54.390625 0 \r\nL 12.40625 0 \r\nz\r\n\" id=\"DejaVuSans-49\"/>\r\n      </defs>\r\n      <g transform=\"translate(334.017259 239.238437)scale(0.1 -0.1)\">\r\n       <use xlink:href=\"#DejaVuSans-49\"/>\r\n       <use x=\"63.623047\" xlink:href=\"#DejaVuSans-48\"/>\r\n       <use x=\"127.246094\" xlink:href=\"#DejaVuSans-48\"/>\r\n       <use x=\"190.869141\" xlink:href=\"#DejaVuSans-48\"/>\r\n       <use x=\"254.492188\" xlink:href=\"#DejaVuSans-48\"/>\r\n       <use x=\"318.115234\" xlink:href=\"#DejaVuSans-48\"/>\r\n      </g>\r\n     </g>\r\n    </g>\r\n   </g>\r\n   <g id=\"matplotlib.axis_2\">\r\n    <g id=\"ytick_1\">\r\n     <g id=\"line2d_6\">\r\n      <defs>\r\n       <path d=\"M 0 0 \r\nL -3.5 0 \r\n\" id=\"md135052f5d\" style=\"stroke:#000000;stroke-width:0.8;\"/>\r\n      </defs>\r\n      <g>\r\n       <use style=\"stroke:#000000;stroke-width:0.8;\" x=\"30.103125\" xlink:href=\"#md135052f5d\" y=\"184.58815\"/>\r\n      </g>\r\n     </g>\r\n     <g id=\"text_6\">\r\n      <!-- 0.2 -->\r\n      <defs>\r\n       <path d=\"M 10.6875 12.40625 \r\nL 21 12.40625 \r\nL 21 0 \r\nL 10.6875 0 \r\nz\r\n\" id=\"DejaVuSans-46\"/>\r\n      </defs>\r\n      <g transform=\"translate(7.2 188.387368)scale(0.1 -0.1)\">\r\n       <use xlink:href=\"#DejaVuSans-48\"/>\r\n       <use x=\"63.623047\" xlink:href=\"#DejaVuSans-46\"/>\r\n       <use x=\"95.410156\" xlink:href=\"#DejaVuSans-50\"/>\r\n      </g>\r\n     </g>\r\n    </g>\r\n    <g id=\"ytick_2\">\r\n     <g id=\"line2d_7\">\r\n      <g>\r\n       <use style=\"stroke:#000000;stroke-width:0.8;\" x=\"30.103125\" xlink:href=\"#md135052f5d\" y=\"141.570008\"/>\r\n      </g>\r\n     </g>\r\n     <g id=\"text_7\">\r\n      <!-- 0.4 -->\r\n      <g transform=\"translate(7.2 145.369227)scale(0.1 -0.1)\">\r\n       <use xlink:href=\"#DejaVuSans-48\"/>\r\n       <use x=\"63.623047\" xlink:href=\"#DejaVuSans-46\"/>\r\n       <use x=\"95.410156\" xlink:href=\"#DejaVuSans-52\"/>\r\n      </g>\r\n     </g>\r\n    </g>\r\n    <g id=\"ytick_3\">\r\n     <g id=\"line2d_8\">\r\n      <g>\r\n       <use style=\"stroke:#000000;stroke-width:0.8;\" x=\"30.103125\" xlink:href=\"#md135052f5d\" y=\"98.551866\"/>\r\n      </g>\r\n     </g>\r\n     <g id=\"text_8\">\r\n      <!-- 0.6 -->\r\n      <g transform=\"translate(7.2 102.351085)scale(0.1 -0.1)\">\r\n       <use xlink:href=\"#DejaVuSans-48\"/>\r\n       <use x=\"63.623047\" xlink:href=\"#DejaVuSans-46\"/>\r\n       <use x=\"95.410156\" xlink:href=\"#DejaVuSans-54\"/>\r\n      </g>\r\n     </g>\r\n    </g>\r\n    <g id=\"ytick_4\">\r\n     <g id=\"line2d_9\">\r\n      <g>\r\n       <use style=\"stroke:#000000;stroke-width:0.8;\" x=\"30.103125\" xlink:href=\"#md135052f5d\" y=\"55.533725\"/>\r\n      </g>\r\n     </g>\r\n     <g id=\"text_9\">\r\n      <!-- 0.8 -->\r\n      <g transform=\"translate(7.2 59.332943)scale(0.1 -0.1)\">\r\n       <use xlink:href=\"#DejaVuSans-48\"/>\r\n       <use x=\"63.623047\" xlink:href=\"#DejaVuSans-46\"/>\r\n       <use x=\"95.410156\" xlink:href=\"#DejaVuSans-56\"/>\r\n      </g>\r\n     </g>\r\n    </g>\r\n    <g id=\"ytick_5\">\r\n     <g id=\"line2d_10\">\r\n      <g>\r\n       <use style=\"stroke:#000000;stroke-width:0.8;\" x=\"30.103125\" xlink:href=\"#md135052f5d\" y=\"12.515583\"/>\r\n      </g>\r\n     </g>\r\n     <g id=\"text_10\">\r\n      <!-- 1.0 -->\r\n      <g transform=\"translate(7.2 16.314802)scale(0.1 -0.1)\">\r\n       <use xlink:href=\"#DejaVuSans-49\"/>\r\n       <use x=\"63.623047\" xlink:href=\"#DejaVuSans-46\"/>\r\n       <use x=\"95.410156\" xlink:href=\"#DejaVuSans-48\"/>\r\n      </g>\r\n     </g>\r\n    </g>\r\n   </g>\r\n   <g id=\"patch_3\">\r\n    <path d=\"M 30.103125 224.64 \r\nL 30.103125 7.2 \r\n\" style=\"fill:none;stroke:#000000;stroke-linecap:square;stroke-linejoin:miter;stroke-width:0.8;\"/>\r\n   </g>\r\n   <g id=\"patch_4\">\r\n    <path d=\"M 364.903125 224.64 \r\nL 364.903125 7.2 \r\n\" style=\"fill:none;stroke:#000000;stroke-linecap:square;stroke-linejoin:miter;stroke-width:0.8;\"/>\r\n   </g>\r\n   <g id=\"patch_5\">\r\n    <path d=\"M 30.103125 224.64 \r\nL 364.903125 224.64 \r\n\" style=\"fill:none;stroke:#000000;stroke-linecap:square;stroke-linejoin:miter;stroke-width:0.8;\"/>\r\n   </g>\r\n   <g id=\"patch_6\">\r\n    <path d=\"M 30.103125 7.2 \r\nL 364.903125 7.2 \r\n\" style=\"fill:none;stroke:#000000;stroke-linecap:square;stroke-linejoin:miter;stroke-width:0.8;\"/>\r\n   </g>\r\n  </g>\r\n </g>\r\n <defs>\r\n  <clipPath id=\"p17b7079d9e\">\r\n   <rect height=\"217.44\" width=\"334.8\" x=\"30.103125\" y=\"7.2\"/>\r\n  </clipPath>\r\n </defs>\r\n</svg>\r\n",
      "image/png": "[encoded data removed]"
     },
     "metadata": {
      "needs_background": "light"
     }
    }
   ],
   "source": [
    "# visualize the times\n",
    "time_arr = np.asarray(sort_times)\n",
    "len_arr = np.asarray(list(range(10000, 100000, 1000)))\n",
    "plt.scatter(len_arr, time_arr)\n",
    "# plt.ylim((0,0.01))\n",
    "plt.show()"
   ]
  }
 ]
}