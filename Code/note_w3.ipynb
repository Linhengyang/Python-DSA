{
 "metadata": {
  "language_info": {
   "codemirror_mode": {
    "name": "ipython",
    "version": 3
   },
   "file_extension": ".py",
   "mimetype": "text/x-python",
   "name": "python",
   "nbconvert_exporter": "python",
   "pygments_lexer": "ipython3",
   "version": "3.8.3-final"
  },
  "orig_nbformat": 2,
  "kernelspec": {
   "name": "python3",
   "display_name": "Python 3",
   "language": "python"
  }
 },
 "nbformat": 4,
 "nbformat_minor": 2,
 "cells": [
  {
   "source": [
    "常数复杂度：与输入数据的规模无关  \n",
    "线性复杂度：输入数据是线性排列，需要挨个操作  \n",
    "二次复杂度：输入数据是线性排列，需要两两做操作（双重循环）  \n",
    "对数复杂度：输入数据是分层的，不需要处理每一个输入数据做操作，大概每一层操作一次数据就行  \n",
    "指数复杂度：输入数据是线性的，但是对每一个数据，需要处理指数增长次  "
   ],
   "cell_type": "markdown",
   "metadata": {}
  },
  {
   "cell_type": "code",
   "execution_count": 1,
   "metadata": {},
   "outputs": [],
   "source": [
    "from timeit import Timer\n",
    "def ist(lst):\n",
    "    lst.insert(0, 1)\n",
    "def apd(lst):\n",
    "    lst.append(1)\n",
    "\n",
    "time1 = []\n",
    "time2 = []\n",
    "for i in range(10):\n",
    "    size = 100000 + 100000*i\n",
    "    lst = list(range(size))\n",
    "    t1 = Timer(\"ist(lst)\", \"from __main__ import ist, lst\")\n",
    "    time1.append(t1.timeit(1000))\n",
    "    \n",
    "    t2 = Timer(\"apd(lst)\", \"from __main__ import apd, lst\")\n",
    "    time2.append(t2.timeit(1000))"
   ]
  },
  {
   "cell_type": "code",
   "execution_count": 4,
   "metadata": {},
   "outputs": [
    {
     "output_type": "stream",
     "name": "stdout",
     "text": [
      "[0.04849149999995461, 0.09542339999984506, 0.15091019999999844, 0.19007480000004762, 0.32964749999996457, 0.39485250000007, 0.5010248000000956, 0.7311709000000519, 0.8052396999999019, 0.8648540000001503]\n"
     ]
    }
   ],
   "source": [
    "print(time1)"
   ]
  },
  {
   "cell_type": "code",
   "execution_count": 5,
   "metadata": {},
   "outputs": [
    {
     "output_type": "stream",
     "name": "stdout",
     "text": [
      "[0.0002069000001938548, 0.00013009999997848354, 0.00011610000001383014, 0.00011010000002897868, 0.00016839999989315402, 0.00011800000015682599, 0.00011670000003505265, 0.0001199999999244028, 0.00011000000017702405, 0.00011029999996026163]\n"
     ]
    }
   ],
   "source": [
    "print(time2)"
   ]
  },
  {
   "source": [
    "# 线性结构 Linear Structure\n",
    "线性结构：一种 有序 数据项的集合，其中每个数据项都有 唯一 的 前驱 和 后继。  \n",
    "--第一个没有前驱，最后一个没有后继  \n",
    "--当有新的数据项加入的时候，只会加入到原有的某个数据项之前或者之后  \n",
    "\n",
    "线性结构总有两端：前后端、左右端、顶底端  \n",
    "\n",
    "不同线性结构的关键区别在于数据项 增减的方式：  \n",
    "--有些只允许从一端增减，有些允许从两端增减  \n",
    "\n",
    "四种线性结构，数据项之间只有先后的次序关系，但增减方式不同  \n",
    "栈Stack 队列Queue，双端队列Deque，列表List  "
   ],
   "cell_type": "markdown",
   "metadata": {}
  },
  {
   "source": [
    "## 栈Stack\n",
    "定义：有次序的数据项集合，在栈中，数据项的 加入 和 移除 都仅发生在同一端。  \n",
    "发生加入和移除的端叫“顶top”，另一端叫“底部base”。  \n",
    "\n",
    "越底部的数据项，留在栈中的时间越长，而最新加入的数据项会被最先移除。  \n",
    "后进先出Last In First Out: LIFO  \n",
    "进入的次序和出去的次序是相反的，即反转次序。  "
   ],
   "cell_type": "markdown",
   "metadata": {}
  },
  {
   "source": [
    "栈的一些基本操作：  \n",
    "Stack(): 创建一个空栈，不包含任何数据项。  \n",
    "push(item): 将item加入栈顶，不返回值。  \n",
    "pop(): 将栈顶数据项移除，并返回，栈被修改。  \n",
    "peek(): “窥视”栈顶数据，返回栈顶数据，栈不被修改。  \n",
    "isEmpty(): 返回栈是否为空。  \n",
    "size(): 返回栈中有多少个数据项。  "
   ],
   "cell_type": "markdown",
   "metadata": {}
  },
  {
   "cell_type": "code",
   "execution_count": 11,
   "metadata": {},
   "outputs": [],
   "source": [
    "# 用Python的list来实现栈Stack\n",
    "class Stack:\n",
    "    def __init__(self):\n",
    "        self.items = []\n",
    "    def isEmpty(self):\n",
    "        return self.items == []\n",
    "    def push(self, item):\n",
    "        self.items.append(item)\n",
    "    def pop(self):\n",
    "        return self.items.pop()\n",
    "    def peek(self):\n",
    "        return self.items[-1]\n",
    "    def size(self):\n",
    "        return len(self.items)\n",
    "    "
   ]
  },
  {
   "cell_type": "code",
   "execution_count": 12,
   "metadata": {},
   "outputs": [
    {
     "output_type": "stream",
     "name": "stdout",
     "text": [
      "True\nFalse\n"
     ]
    }
   ],
   "source": [
    "# 应用栈Stack：简单括号匹配\n",
    "# 每一个开括号要恰好对应一个闭括号，且每对开闭括号必须要正确嵌套。\n",
    "# 可以感受，现有一个空栈。从左往右读符号，碰到一个左括号，就往栈里加一个；碰到一个右括号，就从栈顶移除一个。\n",
    "# 全程要求1、不能出现空栈后还要移除；2、在读完符号后，栈必须为空。\n",
    "\n",
    "def parChecker(simbolString):\n",
    "    s = Stack()\n",
    "\n",
    "    balanced = True\n",
    "    i = 0\n",
    "    while i < len(simbolString) and balanced:\n",
    "        if simbolString[i] == \"(\":\n",
    "            s.push(\"(\")\n",
    "        elif simbolString[i] == \")\":\n",
    "            if s.isEmpty():\n",
    "                balanced = False\n",
    "            else:\n",
    "                s.pop()\n",
    "        i += 1\n",
    "    if balanced and s.isEmpty():\n",
    "        return True\n",
    "    else:\n",
    "        return False\n",
    "\n",
    "print(parChecker(\"((()))\"))\n",
    "print(parChecker(\"(()\"))"
   ]
  },
  {
   "cell_type": "code",
   "execution_count": 14,
   "metadata": {},
   "outputs": [
    {
     "output_type": "stream",
     "name": "stdout",
     "text": [
      "True\nFalse\n"
     ]
    }
   ],
   "source": [
    "# 现在考虑多种括号的匹配：(), [], {}\n",
    "# ( [ ) ]不匹配。*\n",
    "# 一样的，从左往右读，碰到左括号时，依然要push进入栈；碰到右括号时，要pop栈顶部的item，此时需要检查pop出来的左括号与右括号是否配对。如果配对，那么可以pop并继续；如果不配对，说明出现了*这种情况，此时应该视作字符是不匹配的。\n",
    "def parChecker(simbolString):\n",
    "    s = Stack()\n",
    "\n",
    "    balanced = True\n",
    "    i = 0\n",
    "    while i < len(simbolString) and balanced:\n",
    "        if simbolString[i] in \"([{\":\n",
    "            s.push(simbolString[i])\n",
    "        elif simbolString[i] in \")]}\":\n",
    "            if s.isEmpty():\n",
    "                balanced = False\n",
    "            else:\n",
    "                top = s.pop()\n",
    "                if not matches(top, simbolString[i]):\n",
    "                   balanced = False\n",
    "        i += 1\n",
    "    if balanced and s.isEmpty():\n",
    "        return True\n",
    "    else:\n",
    "        return False\n",
    "# def matches(left, right):\n",
    "#     if (left == '(' and right == \")\") or (left == '[' and right == \"]\") or (left == '{' and right == \"}\"):\n",
    "#         return True\n",
    "#     else:\n",
    "#         return False\n",
    "def matches(left, right):\n",
    "    lefts = \"{[(\"\n",
    "    rights = \"}])\"\n",
    "    return lefts.index(left) == rights.index(right)\n",
    "\n",
    "print(parChecker(\"([()]){}\"))\n",
    "print(parChecker(\"([(]\"))"
   ]
  },
  {
   "cell_type": "code",
   "execution_count": 23,
   "metadata": {},
   "outputs": [
    {
     "output_type": "stream",
     "name": "stdout",
     "text": [
      "351\n"
     ]
    }
   ],
   "source": [
    "# 应用栈Stack: 十进制转N进制, N < 10\n",
    "# 十进制转N进制，不断地除以N，取余数。先得到的余数，要靠后输出作为N进制结果的末位。\n",
    "# (233)10 = (351)8 = (E9)16\n",
    "def divideByN(decNumb, N):\n",
    "    remstack = Stack()\n",
    "    while decNumb > 0:\n",
    "        rem = decNumb % N\n",
    "        remstack.push(rem)\n",
    "        decNumb = decNumb // N\n",
    "    \n",
    "    binstr = \"\"\n",
    "    while not remstack.isEmpty():\n",
    "        binstr += str(remstack.pop())\n",
    "    return binstr\n",
    "\n",
    "print(divideByN(233, 8))\n",
    "\n",
    "# 当N > 10时，取余、存余数的操作是完全一样的，只不过在pop的时候，大于10的pop出来的值，要转换成对应的英文字母输出。即10对应A，11对应B等等。"
   ]
  },
  {
   "cell_type": "code",
   "execution_count": null,
   "metadata": {},
   "outputs": [],
   "source": [
    "# 表达式转换：\n",
    "# 中缀表示法：操作符在两个操作数中间。a+b，a*b\n",
    "# 但是a+b*c就造成了混淆。为此我们规定了优先级的概念。同时引入了括号作为最高优先级。\n",
    "# 全括号表达式：在所有的表达式项两边都加上括号，以括号为唯一次序。\n",
    "# 操作符移到前面：+ab，前缀表示法；操作符移到后面：ab+，后缀表示法\n",
    "# 在前缀、后缀表达式中，操作符的次序完全决定了运算的次序，不再有混淆。\n",
    "# (A+B)*C -> 前缀：*+ABC，先+，然后*，从右往左为运算的次序；后缀：AB+C*，先+，然后*，从左往右为运算的次序。\n",
    "\n",
    "## 转换全括号表达式为前后缀表达式：\n",
    "## 转换(b*c)为后缀：用*代替右括号，删去左括号, -> bc*\n",
    "## 转换(b+a)为前缀：用+代替左括号，删去右括号, -> +ba"
   ]
  },
  {
   "cell_type": "code",
   "execution_count": null,
   "metadata": {},
   "outputs": [],
   "source": [
    "# 转换通用的中缀表达式为后缀表达式：A+B*C -> ABC*+\n",
    "# 在转换过程中，从左往右读字符：\n",
    "##  操作符要比操作数晚输出，A+B -> AB+，所以在扫描到对应的第二个操作数B之前，需要把操作符+先保存起来。\n",
    "##  但是这些暂存的操作符，由于优先级的关系，可能要 反转 次序输出。A+B*C -> ABC*+ 这个例子中，先暂存的+比*要后输出。\n",
    "##  使用栈来保存暂时未处理的操作符\n",
    "\n",
    "## 如果遇到括号，比如：(A+B)*C -> AB+C*   后缀表达式中的操作符应该出现在左括号对应的右括号位置。\n",
    "## 也就是说，遇到左括号，要标记下，其后出现的操作符优先级提升了，一旦扫描到对应的右括号，就可以马上输出这个操作符。\n",
    "\n",
    "# 约定：中缀表达式是一系列token构成。token包括操作符token */+-(), 以及操作数token ABCD等。\n",
    "##创建空栈opstack用于暂存操作符，空表postfixList用于保存后缀表达式。\n",
    "##中缀表达式列表: A+B*C -> [\"A\", \"+\", \"B\", \"*\", \"C\"]"
   ]
  },
  {
   "cell_type": "code",
   "execution_count": 1,
   "metadata": {},
   "outputs": [],
   "source": [
    "# 用Python的list来实现栈Stack\n",
    "class Stack:\n",
    "    def __init__(self):\n",
    "        self.__items = []\n",
    "    def isEmpty(self):\n",
    "        return self.__items == []\n",
    "    def push(self, item):\n",
    "        self.__items.append(item)\n",
    "    def pop(self):\n",
    "        return self.__items.pop()\n",
    "    def peek(self):\n",
    "        return self.__items[-1]\n",
    "    def size(self):\n",
    "        return len(self.__items)"
   ]
  },
  {
   "cell_type": "code",
   "execution_count": 17,
   "metadata": {},
   "outputs": [],
   "source": [
    "  def midfix2postfix(midfix_str):\n",
    "      # 操作符顺序定义：*/ 高级于 +-    左+- 高级于 右+-   左*/ 高级于 右*/     +同类-    *同类/\n",
    "      # 操作符栈要保持+-*/，即运算操作符，从顶到底为高级到低级。所以一个新运算符压进来后，要对栈操作。\n",
    "      # 操作符栈有一个\"check out部分\"的pop out操作。\n",
    "      ##   比如当一个(压进来后, 它就成了这个栈的一个临时底。即下一个)压进来之前, (下面的运算符号都不会被pop out\n",
    "      ##   比如当一个)压进后, 要check out, 即pop out从)一直down到(所有运算操作符\n",
    "      ##   当一个新运算操作符马上要压进来：\n",
    "      ####     如果这个新操作符比栈顶还高级, 那么OK,压进来, 成为新栈顶, 符合最高级的最先输出\n",
    "      ####     如果这个新操作符要比栈顶低级, 那么check out从栈顶开始依次pop, 直到新操作符比栈顶高级, 或者到栈底or临时底(. 最后压这个新操作符\n",
    "      # 当字符读取完毕之后, 依次pop栈内所有的运算操作符\n",
    "      midfix_lst = list(midfix_str)\n",
    "      postfix_lst = []\n",
    "      opstack = Stack()\n",
    "      for char in midfix_lst:\n",
    "          if char in \"ABCDEFGHIJKLMNOPQRSTUVWXYZ\":\n",
    "              postfix_lst.append(char)\n",
    "          elif char == \"(\":\n",
    "              opstack.push(char)\n",
    "          elif char == \")\":\n",
    "              s_top = opstack.pop()\n",
    "              while s_top != \"(\":\n",
    "                  postfix_lst.append(s_top)\n",
    "                  s_top = opstack.pop()\n",
    "          elif char in \"+-*/\":\n",
    "              if char in \"*/\" and opstack.peek() in \"+-\": ## char is higher than the top of opstack\n",
    "                  opstack.push(char)\n",
    "              else:\n",
    "                  while (not(char in \"*/\" and opstack.peek() in \"+-\")) and (not opstack.isEmpty()) and (opstack.peek() != \"(\"):\n",
    "                      postfix_lst.append(opstack.pop())\n",
    "                  opstack.push(char)\n",
    "          else:\n",
    "              raise ValueError\n",
    "      while not opstack.isEmpty():\n",
    "          postfix_lst.append(opstack.pop())\n",
    "      return \"\".join(postfix_lst)"
   ]
  },
  {
   "cell_type": "code",
   "execution_count": 19,
   "metadata": {},
   "outputs": [
    {
     "output_type": "execute_result",
     "data": {
      "text/plain": [
       "True"
      ]
     },
     "metadata": {},
     "execution_count": 19
    }
   ],
   "source": [
    "midfix_str = \"A+B*(C+D)-E/F\"\r\n",
    "midfix2postfix(midfix_str) == 'ABCD+*+EF/-'"
   ]
  }
 ]
}